{
 "cells": [
  {
   "cell_type": "code",
   "execution_count": 4,
   "metadata": {},
   "outputs": [],
   "source": [
    "import torch"
   ]
  },
  {
   "cell_type": "code",
   "execution_count": 5,
   "metadata": {},
   "outputs": [],
   "source": [
    "torch.manual_seed(1)\n",
    "torch.cuda.manual_seed(1)\n",
    "torch.cuda.manual_seed_all(1)\n",
    "torch.backends.cudnn.deterministic = True\n",
    "torch.backends.cudnn.benchmark = False"
   ]
  },
  {
   "cell_type": "code",
   "execution_count": 5,
   "metadata": {},
   "outputs": [],
   "source": [
    "import numpy as np\n",
    "np.random.seed(0)\n",
    "\n",
    "A = np.array([[0,1,1],[0,1,1],[1,1,0]])"
   ]
  },
  {
   "cell_type": "code",
   "execution_count": 10,
   "metadata": {},
   "outputs": [],
   "source": [
    "indicies = np.where(A>0)"
   ]
  },
  {
   "cell_type": "code",
   "execution_count": 7,
   "metadata": {},
   "outputs": [],
   "source": [
    "X = np.random.randn(3,3)\n",
    "W = np.random.randn(3,2)"
   ]
  },
  {
   "cell_type": "code",
   "execution_count": 8,
   "metadata": {},
   "outputs": [
    {
     "data": {
      "text/plain": [
       "array([[ 1.76405235,  0.40015721,  0.97873798],\n",
       "       [ 2.2408932 ,  1.86755799, -0.97727788],\n",
       "       [ 0.95008842, -0.15135721, -0.10321885]])"
      ]
     },
     "execution_count": 8,
     "metadata": {},
     "output_type": "execute_result"
    }
   ],
   "source": [
    "X"
   ]
  },
  {
   "cell_type": "code",
   "execution_count": 9,
   "metadata": {},
   "outputs": [
    {
     "data": {
      "text/plain": [
       "array([[0.4105985 , 0.14404357],\n",
       "       [1.45427351, 0.76103773],\n",
       "       [0.12167502, 0.44386323]])"
      ]
     },
     "execution_count": 9,
     "metadata": {},
     "output_type": "execute_result"
    }
   ],
   "source": [
    "W"
   ]
  },
  {
   "cell_type": "code",
   "execution_count": 11,
   "metadata": {},
   "outputs": [],
   "source": [
    "concat = np.concatenate(((X @ W )[indicies[0]],(X @ W )[indicies[1]]),axis=1)"
   ]
  },
  {
   "cell_type": "code",
   "execution_count": 12,
   "metadata": {},
   "outputs": [
    {
     "data": {
      "text/plain": [
       "array([[ 1.42534324,  0.99306094,  3.5171372 ,  1.31029062],\n",
       "       [ 1.42534324,  0.99306094,  0.15743095, -0.02414947],\n",
       "       [ 3.5171372 ,  1.31029062,  3.5171372 ,  1.31029062],\n",
       "       [ 3.5171372 ,  1.31029062,  0.15743095, -0.02414947],\n",
       "       [ 0.15743095, -0.02414947,  1.42534324,  0.99306094],\n",
       "       [ 0.15743095, -0.02414947,  3.5171372 ,  1.31029062]])"
      ]
     },
     "execution_count": 12,
     "metadata": {},
     "output_type": "execute_result"
    }
   ],
   "source": [
    "concat"
   ]
  },
  {
   "cell_type": "markdown",
   "metadata": {},
   "source": [
    "Now we have got the (hi,hj) pair for i and j adjacency. Now we have to compute the attention based score for each of this pair."
   ]
  },
  {
   "cell_type": "code",
   "execution_count": 13,
   "metadata": {},
   "outputs": [],
   "source": [
    "W_atten = np.random.randn(1,4)"
   ]
  },
  {
   "cell_type": "code",
   "execution_count": 26,
   "metadata": {},
   "outputs": [],
   "source": [
    "atten_score = np.tanh(W_atten@concat.T)"
   ]
  },
  {
   "cell_type": "code",
   "execution_count": 27,
   "metadata": {},
   "outputs": [
    {
     "data": {
      "text/plain": [
       "array([[ 0.92857604,  0.95787224,  0.99291795,  0.99587921,  0.03490962,\n",
       "        -0.28664827]])"
      ]
     },
     "execution_count": 27,
     "metadata": {},
     "output_type": "execute_result"
    }
   ],
   "source": [
    "atten_score"
   ]
  },
  {
   "cell_type": "code",
   "execution_count": 28,
   "metadata": {},
   "outputs": [],
   "source": [
    "E= np.zeros((A.shape[0],A.shape[1]))"
   ]
  },
  {
   "cell_type": "code",
   "execution_count": 29,
   "metadata": {},
   "outputs": [
    {
     "name": "stderr",
     "output_type": "stream",
     "text": [
      "/tmp/ipykernel_2085423/2156947237.py:1: FutureWarning: Using a non-tuple sequence for multidimensional indexing is deprecated; use `arr[tuple(seq)]` instead of `arr[seq]`. In the future this will be interpreted as an array index, `arr[np.array(seq)]`, which will result either in an error or a different result.\n",
      "  E[[indicies[0],indicies[1]]] = atten_score[0]\n"
     ]
    }
   ],
   "source": [
    "E[[indicies[0],indicies[1]]] = atten_score[0]  "
   ]
  },
  {
   "cell_type": "code",
   "execution_count": 30,
   "metadata": {},
   "outputs": [
    {
     "data": {
      "text/plain": [
       "array([[ 0.        ,  0.92857604,  0.95787224],\n",
       "       [ 0.        ,  0.99291795,  0.99587921],\n",
       "       [ 0.03490962, -0.28664827,  0.        ]])"
      ]
     },
     "execution_count": 30,
     "metadata": {},
     "output_type": "execute_result"
    }
   ],
   "source": [
    "E"
   ]
  },
  {
   "cell_type": "code",
   "execution_count": 35,
   "metadata": {},
   "outputs": [],
   "source": [
    "def softmax(x):\n",
    "    return np.exp(x) / np.expand_dims(np.sum(np.exp(x), axis=1),axis=1)\n",
    "\n",
    "soft_score = softmax(E)"
   ]
  },
  {
   "cell_type": "code",
   "execution_count": 36,
   "metadata": {},
   "outputs": [
    {
     "data": {
      "text/plain": [
       "array([[0.16294479, 0.41239741, 0.4246578 ],\n",
       "       [0.15609872, 0.42132589, 0.42257539],\n",
       "       [0.37164893, 0.26945241, 0.35889866]])"
      ]
     },
     "execution_count": 36,
     "metadata": {},
     "output_type": "execute_result"
    }
   ],
   "source": [
    "soft_score"
   ]
  },
  {
   "cell_type": "markdown",
   "metadata": {},
   "source": [
    "Now we just have to multiply the embedding of the each node with the soft score and the adjacency matrix."
   ]
  },
  {
   "cell_type": "code",
   "execution_count": 1,
   "metadata": {},
   "outputs": [],
   "source": [
    "from torch_geometric.datasets import Planetoid  \n",
    "\n",
    "dataset = Planetoid(root='.', name='Cora')"
   ]
  },
  {
   "cell_type": "code",
   "execution_count": 2,
   "metadata": {},
   "outputs": [],
   "source": [
    "data = dataset[0]"
   ]
  },
  {
   "cell_type": "code",
   "execution_count": 18,
   "metadata": {},
   "outputs": [],
   "source": [
    "from torch_geometric.nn import GATConv,GATv2Conv\n",
    "import torch.nn.functional as F\n",
    "\n",
    "class GAT(torch.nn.Module):\n",
    "    def __init__(self):\n",
    "        super(GAT, self).__init__()\n",
    "        self.conv1 = GATConv(dataset.num_features, 32, heads=8)\n",
    "        self.conv2 = GATConv(32 * 8, dataset.num_classes, heads=1, concat=False)\n",
    "\n",
    "    def forward(self, x, edge_index):\n",
    "        h = F.dropout(x, p=0.6, training=self.training)\n",
    "        h = self.conv1(h, edge_index)\n",
    "        h = F.elu(h)\n",
    "        h = F.dropout(h, p=0.6, training=self.training)\n",
    "        h = self.conv2(h, edge_index)\n",
    "        h = F.log_softmax(h, dim=1)\n",
    "        return h"
   ]
  },
  {
   "cell_type": "code",
   "execution_count": 19,
   "metadata": {},
   "outputs": [],
   "source": [
    "criteria = torch.nn.CrossEntropyLoss()\n",
    "model = GAT()\n",
    "optimizer = torch.optim.Adam(model.parameters(),lr=0.01,weight_decay=0.01)"
   ]
  },
  {
   "cell_type": "code",
   "execution_count": 20,
   "metadata": {},
   "outputs": [
    {
     "name": "stdout",
     "output_type": "stream",
     "text": [
      "1.9426835775375366\n",
      "val_loss:1.9399,val_acc:0.1400\n",
      "0.11149610579013824\n",
      "val_loss:0.8885,val_acc:0.7160\n",
      "0.21997682750225067\n",
      "val_loss:0.9941,val_acc:0.6780\n",
      "0.14469338953495026\n",
      "val_loss:0.8943,val_acc:0.7080\n",
      "0.15483419597148895\n",
      "val_loss:0.8847,val_acc:0.6840\n",
      "0.14013442397117615\n",
      "val_loss:0.9121,val_acc:0.7040\n",
      "0.20295898616313934\n",
      "val_loss:0.8611,val_acc:0.7280\n",
      "0.19764918088912964\n",
      "val_loss:0.8891,val_acc:0.7360\n",
      "0.16942662000656128\n",
      "val_loss:0.9486,val_acc:0.7240\n",
      "0.15907645225524902\n",
      "val_loss:1.0085,val_acc:0.7080\n",
      "0.159968301653862\n",
      "val_loss:0.8701,val_acc:0.7260\n",
      "0.15351426601409912\n",
      "val_loss:0.9814,val_acc:0.7120\n",
      "0.15695273876190186\n",
      "val_loss:0.8761,val_acc:0.7300\n",
      "0.17217081785202026\n",
      "val_loss:0.9363,val_acc:0.7000\n",
      "0.14058323204517365\n",
      "val_loss:0.9215,val_acc:0.7100\n",
      "0.1374574601650238\n",
      "val_loss:0.9577,val_acc:0.7240\n",
      "0.2782289683818817\n",
      "val_loss:0.9906,val_acc:0.7160\n",
      "0.17753271758556366\n",
      "val_loss:0.9160,val_acc:0.7020\n",
      "0.1674230694770813\n",
      "val_loss:0.9267,val_acc:0.7080\n",
      "0.16893979907035828\n",
      "val_loss:0.9424,val_acc:0.7120\n"
     ]
    }
   ],
   "source": [
    "def accuracy(pred,y):\n",
    "    correct = pred.argmax(dim=1).eq(y).sum().item()\n",
    "    acc = correct / y.size(0)\n",
    "    return acc\n",
    "model.train()\n",
    "for epoch in range(200):\n",
    "    optimizer.zero_grad()\n",
    "    out = model(data.x,data.edge_index)\n",
    "    loss = criteria(out[data.train_mask],data.y[data.train_mask])\n",
    "    loss.backward()\n",
    "    optimizer.step()\n",
    "    if epoch%10==0:\n",
    "        print(loss.item())\n",
    "        val_loss = criteria(out[data.val_mask],data.y[data.val_mask])\n",
    "        val_acc = accuracy(out[data.val_mask],data.y[data.val_mask])\n",
    "        print('val_loss:{:.4f},val_acc:{:.4f}'.format(val_loss.item(),val_acc))\n"
   ]
  },
  {
   "cell_type": "markdown",
   "metadata": {},
   "source": [
    "Now let us see how the model fair well with each node degrees."
   ]
  },
  {
   "cell_type": "code",
   "execution_count": 26,
   "metadata": {},
   "outputs": [
    {
     "data": {
      "text/plain": [
       "Text(0.5, 1.0, 'GAT')"
      ]
     },
     "execution_count": 26,
     "metadata": {},
     "output_type": "execute_result"
    },
    {
     "data": {
      "image/png": "[encoded data removed]",
      "text/plain": [
       "<Figure size 640x480 with 1 Axes>"
      ]
     },
     "metadata": {},
     "output_type": "display_data"
    }
   ],
   "source": [
    "import matplotlib.pyplot as plt\n",
    "from torch_geometric.utils import degree\n",
    "from collections import Counter\n",
    "import numpy as np\n",
    "out = model(data.x,data.edge_index)\n",
    "degrees = degree(data.edge_index[0]).cpu().numpy()\n",
    "accuracies = []\n",
    "for i in range(1,5):\n",
    "    mask = np.where(degrees==i)[0]\n",
    "    accuracies.append(accuracy(out[mask],data.y[mask]))\n",
    "plt.bar(range(1,5),accuracies)\n",
    "plt.xlabel('degree')\n",
    "plt.ylabel('accuracy')\n",
    "plt.title('GAT')"
   ]
  },
  {
   "cell_type": "markdown",
   "metadata": {},
   "source": [
    "So for higher degrees it performs well. That is the model is able to learn the node embeddings for the nodes with higher degrees. That is all about the Graph Attention Network. Thanks for reading."
   ]
  }
 ],
 "metadata": {
  "kernelspec": {
   "display_name": "graph_n",
   "language": "python",
   "name": "python3"
  },
  "language_info": {
   "codemirror_mode": {
    "name": "ipython",
    "version": 3
   },
   "file_extension": ".py",
   "mimetype": "text/x-python",
   "name": "python",
   "nbconvert_exporter": "python",
   "pygments_lexer": "ipython3",
   "version": "3.9.17"
  },
  "orig_nbformat": 4
 },
 "nbformat": 4,
 "nbformat_minor": 2
}
